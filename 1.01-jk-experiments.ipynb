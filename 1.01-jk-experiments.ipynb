{
 "cells": [
  {
   "cell_type": "markdown",
   "id": "ad59bda0",
   "metadata": {},
   "source": [
    "# Operations Research - Case Study on Hospital Emergency Department System\n",
    "*Given the following, model/simulate the ED system (Discrete Event Simulation with SimPy) to evaluate operational system \"performance\":*\n",
    "- The existing system is struggling with its volume of patients. \n",
    "- The predicted increase in volume is going to push the existing system past its breaking point. \n",
    "- Discuss how simulation (with SimPy) can be used to **(1) evaluate the system performance** and **(2) design the appropriate system capacity**.\n",
    "\n",
    "We will evaluate the performance of ED via the following criteria: \n",
    "1. Average total wait time for each patient with current resources/system capacity\n",
    "2. Average wait time for \"fast-track\" patients - To measure efficiency for quick discharge\n",
    "3. Average wait time for \"serious\" patients whom are discharged\n",
    "4. Average wait time for \"serious\" patients whom are transferred. \n",
    "\n",
    "**Assumptions:**\n",
    "- Doctors are in charge of diagnosis and nurses performing lab-test + preparing medications\n",
    "- Fast-track team only has 1 doctor and 1 nurse\n",
    "- Main ED team has 5 doctors and 5 nurses\n",
    "- Patients no need to wait for doctors if they are available (after collecting their queue numbers)\n",
    "- Patients will definitely need to collect medications before being discharged.\n",
    "\n",
    "**Algorithm Brainstorming (Simplest):** \n",
    "*How does the process run in real-life? Think of steps a patient would have to go through in an ED visit.*\n",
    "\n",
    "*Entity - Patient, Resources - Doctors and Nurses*\n",
    "- Arrive at ED, get a queue no. 50% chance of either (1) Fast-track or (2) Main ED\n",
    "1. Fast-Track Patient\n",
    "    - [Fast Track] See doctor for diagnosis and treatment. Determine no. of lab-tests\n",
    "    - [Fast Track] If lab-test, wait for lab-test -> Queue for diagnosis -> Discharge\n",
    "    - [Fast Track] If healthy, Discharge. \n",
    "2. Main ED Patient\n",
    "    - ...\n",
    "\n",
    " \n",
    "**Useful links:**\n",
    "- Documentation & Examples: https://simpy.readthedocs.io/en/latest/simpy_intro/index.html#\n",
    "- Demo: https://realpython.com/simpy-simulating-with-python/#creating-the-environment-class-definition"
   ]
  },
  {
   "cell_type": "code",
   "execution_count": null,
   "id": "d8106208",
   "metadata": {},
   "outputs": [],
   "source": [
    "# Simple set-up (for fast track patients with max 1 lab-test scheduled)\n",
    "import simpy\n",
    "import random\n",
    "import statistics"
   ]
  },
  {
   "cell_type": "code",
   "execution_count": 2,
   "id": "320c4c19",
   "metadata": {},
   "outputs": [],
   "source": [
    "# hold wait times\n",
    "wait_times = []"
   ]
  },
  {
   "cell_type": "markdown",
   "id": "b9e95ad6",
   "metadata": {},
   "source": [
    "### Firstly, we create a class for fast-track patient admissions\n",
    "- Set-up resource: Doctors & Nurses\n",
    "- Set-up processes: Consult doctor, wait for medication, (if any) wait for lab-test result."
   ]
  },
  {
   "cell_type": "code",
   "execution_count": 13,
   "id": "a222e705",
   "metadata": {},
   "outputs": [],
   "source": [
    "# set-up input variables\n",
    "MIN_CONSULT = 1\n",
    "MAX_CONSULT = 10 # min & max wait times to consult a doctor\n",
    "# ...\n",
    "\n",
    "# Create class for fast-track admissions + set-up resources and actions/processes (as class methods)\n",
    "class Hospital(object): \n",
    "    def __init__(self, env, num_doctors, num_nurses): \n",
    "        self.env = env\n",
    "        self.doctor = simpy.Resource(env, num_doctors)\n",
    "        self.nurse = simpy.Resource(env, num_nurses)\n",
    "\n",
    "    # consulting a doctor\n",
    "    def consult(self, patient): \n",
    "        yield self.env.timeout(random.randint(1, 10))\n",
    "    \n",
    "    # wait for medications\n",
    "    def medication(self, patient): \n",
    "        yield self.env.timeout(random.randint(5, 15))\n",
    "\n",
    "    # wait for lab-test\n",
    "    def lab(self, patient): \n",
    "        yield self.env.timeout(random.randint(5, 20))"
   ]
  },
  {
   "cell_type": "markdown",
   "id": "5980c8de",
   "metadata": {},
   "source": [
    "### Next, after setting-up the environment in the fast_track class, we can keep track of the events of a Patient\n",
    "- Request a resource (doctor or nurse)\n",
    "- Wait for process to complete\n",
    "- Leave process for the next one or get discharged!"
   ]
  },
  {
   "cell_type": "code",
   "execution_count": 6,
   "id": "75266b18",
   "metadata": {},
   "outputs": [],
   "source": [
    "def visit_hospital(env, patient, Hospital):\n",
    "    # Track time patient arrive at hospital\n",
    "    arrival_time = env.now\n",
    "\n",
    "    with Hospital.doctor.request() as request:\n",
    "        yield request\n",
    "        yield env.process(Hospital.consult(patient))\n",
    "    \n",
    "    # If lab-test needed, wait for lab-test -> Go for 2nd consult\n",
    "    if random.choice([True, False]):\n",
    "        # Wait for lab-test\n",
    "        with Hospital.nurse.request() as request:\n",
    "            yield request\n",
    "            yield env.process(Hospital.lab(patient))\n",
    "        # Go for 2nd consult\n",
    "        with Hospital.doctor.request() as request:\n",
    "            yield request\n",
    "            yield env.process(Hospital.consult(patient))\n",
    "        \n",
    "    # Wait for medications\n",
    "    with Hospital.nurse.request() as request:\n",
    "        yield request\n",
    "        yield env.process(Hospital.medication(patient))\n",
    "\n",
    "    # Append wait time for patient\n",
    "    wait_times.append(env.now - arrival_time)"
   ]
  },
  {
   "cell_type": "markdown",
   "id": "aa0c5ebc",
   "metadata": {},
   "source": [
    "### Next up! We define a function to run the simulation!\n",
    "*Start by creating an instance of the hospital, then generate patients until the simulation stops!*"
   ]
  },
  {
   "cell_type": "code",
   "execution_count": 7,
   "id": "5241de76",
   "metadata": {},
   "outputs": [],
   "source": [
    "# Define simulation function\n",
    "def run_hospital(env, num_doctors, num_nurses): \n",
    "    # create Hospital instance\n",
    "    hospital = Hospital(env, num_doctors, num_nurses)\n",
    "\n",
    "    # start simulation with 3 patients waiting to be admitted - ?\n",
    "    for patient in range(3):\n",
    "        env.process(visit_hospital(env, patient, hospital))\n",
    "\n",
    "    # wait before generating new patient visit\n",
    "    while True:\n",
    "        yield env.timeout(0.20)  # wait before generating a new person\n",
    "\n",
    "        # add and process new patient\n",
    "        patient += 1\n",
    "        env.process(visit_hospital(env, patient, hospital))"
   ]
  },
  {
   "cell_type": "markdown",
   "id": "bbb78257",
   "metadata": {},
   "source": [
    "### Define and run main() function.\n",
    "- Set-up random seed for reproducibility of results\n",
    "- Input resource parameters - No. of doctors and nurses. \n",
    "- Create the environment and save it as the variable env, which will move the simulation through each time step.\n",
    "- Instantiate and Run the Process - run_hospital(), which creates hospital environment and generate patients to run within time limit.\n",
    "- View average wait time for fast-track patients."
   ]
  },
  {
   "cell_type": "code",
   "execution_count": 16,
   "id": "61e6e370",
   "metadata": {},
   "outputs": [],
   "source": [
    "# Define func to get average wait times\n",
    "def calculate_wait_time(wait_times):\n",
    "    average_wait = statistics.mean(wait_times)\n",
    "    # Pretty print the results\n",
    "    minutes, frac_minutes = divmod(average_wait, 1)\n",
    "    seconds = frac_minutes * 60\n",
    "    return round(minutes), round(seconds)"
   ]
  },
  {
   "cell_type": "code",
   "execution_count": null,
   "id": "279871fa",
   "metadata": {},
   "outputs": [
    {
     "name": "stdout",
     "output_type": "stream",
     "text": [
      "Running simulation... \n",
      "The average wait time is 62 minutes and 38 seconds.\n"
     ]
    }
   ],
   "source": [
    "# Setup\n",
    "random.seed(42) # ?Check\n",
    "num_doctors, num_nurses = 1, 1\n",
    "\n",
    "# Run the simulation\n",
    "env = simpy.Environment()\n",
    "# Instantiate and Run simulation. \n",
    "env.process(run_hospital(env, num_doctors, num_nurses))\n",
    "env.run(until=120)\n",
    "\n",
    "# View the results\n",
    "mins, secs = calculate_wait_time(wait_times)\n",
    "print(\n",
    "    \"Running simulation...\",\n",
    "    f\"\\nThe average wait time is {mins} minutes and {secs} seconds.\",\n",
    ")"
   ]
  },
  {
   "cell_type": "code",
   "execution_count": null,
   "id": "9d1bd314",
   "metadata": {},
   "outputs": [],
   "source": []
  }
 ],
 "metadata": {
  "kernelspec": {
   "display_name": "fix_things",
   "language": "python",
   "name": "python3"
  },
  "language_info": {
   "codemirror_mode": {
    "name": "ipython",
    "version": 3
   },
   "file_extension": ".py",
   "mimetype": "text/x-python",
   "name": "python",
   "nbconvert_exporter": "python",
   "pygments_lexer": "ipython3",
   "version": "3.9.15"
  }
 },
 "nbformat": 4,
 "nbformat_minor": 5
}
